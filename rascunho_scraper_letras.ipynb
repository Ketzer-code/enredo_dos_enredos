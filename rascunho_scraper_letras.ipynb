{
 "cells": [
  {
   "cell_type": "code",
   "execution_count": 47,
   "metadata": {},
   "outputs": [],
   "source": [
    "# importing libraries\n",
    "import os\n",
    "import urllib.parse\n",
    "import pandas as pd\n",
    "import requests as req\n",
    "from selenium import webdriver\n",
    "from dotenv import load_dotenv\n",
    "from selenium import webdriver\n",
    "from selenium.webdriver.common.by import By\n",
    "from webdriver_manager.firefox import GeckoDriverManager"
   ]
  },
  {
   "cell_type": "code",
   "execution_count": 21,
   "metadata": {},
   "outputs": [],
   "source": [
    "# setting working directory and reading database\n",
    "wd = os.getcwd()\n",
    "\n",
    "discography_df = pd.read_csv(wd + \"/discografia_enredos.csv\")"
   ]
  },
  {
   "cell_type": "code",
   "execution_count": 22,
   "metadata": {},
   "outputs": [],
   "source": [
    "# carregando variaveis de ambiente\n",
    "load_dotenv()\n",
    "CHAVE_API_VAGALUME = os.getenv(\"CHAVE_API_VAGALUME\")"
   ]
  },
  {
   "cell_type": "code",
   "execution_count": 23,
   "metadata": {},
   "outputs": [],
   "source": [
    "# checando base\n",
    "discography_df = discography_df.drop(columns = \"Unnamed: 0\")"
   ]
  },
  {
   "cell_type": "code",
   "execution_count": 24,
   "metadata": {},
   "outputs": [],
   "source": [
    "# creating function to call vagalume api\n",
    "def get_lyrics(artist, song):\n",
    "    \n",
    "    params = {\n",
    "        \"art\": artist,\n",
    "        \"mus\": song,\n",
    "        \"apikey\": CHAVE_API_VAGALUME\n",
    "    }\n",
    "    \n",
    "    params_encoded = urllib.parse.urlencode(params)\n",
    "    \n",
    "    url = \"https://api.vagalume.com.br/search.php?\" + params_encoded\n",
    "    \n",
    "    # replace quote plus with quote %\n",
    "    # TODO: how to fix this without using replace?\n",
    "    \n",
    "    url = url.replace(\"+\", \"%20\")\n",
    "    \n",
    "    response = req.get(url)\n",
    "    try:\n",
    "        data = response.json()\n",
    "        return data[\"mus\"][0][\"text\"] if \"mus\" in data.keys() else data\n",
    "    except ValueError:\n",
    "        return \"API_ERROR\" + \"_\" + str(response.status_code)\n",
    "\n"
   ]
  },
  {
   "cell_type": "code",
   "execution_count": 11,
   "metadata": {},
   "outputs": [
    {
     "data": {
      "text/plain": [
       "Series([], Name: letra, dtype: int64)"
      ]
     },
     "execution_count": 11,
     "metadata": {},
     "output_type": "execute_result"
    }
   ],
   "source": [
    "# repescagem 1: rodando pra quem caiu por ratelimit (umas 6/7 vezes resolve)\n",
    "discography_df.loc[:, \"letra\"] = discography_df.apply(\n",
    "    lambda x: get_lyrics(artist = x[\"escola\"], song = \"Samba Enredo\" + \" \" + str(x[\"ano\"])) if x[\"letra\"] == \"API_ERROR_429\" else x[\"letra\"], axis = 1\n",
    ")\n",
    "\n",
    "discography_df[discography_df[\"letra\"] == \"API_ERROR_429\"][\"letra\"].value_counts()"
   ]
  },
  {
   "cell_type": "code",
   "execution_count": 14,
   "metadata": {},
   "outputs": [
    {
     "data": {
      "text/plain": [
       "<class 'str'>    750\n",
       "Name: letra, dtype: int64"
      ]
     },
     "execution_count": 14,
     "metadata": {},
     "output_type": "execute_result"
    }
   ],
   "source": [
    "# verificando quantos enredos estao sem letra (tipo n eh str)\n",
    "discography_df[\"letra\"].apply(type).value_counts()"
   ]
  },
  {
   "cell_type": "code",
   "execution_count": 13,
   "metadata": {},
   "outputs": [],
   "source": [
    "# repescagem 2: rodando com \"samba-enredo\" ao inves de \"Samba Enredo\"\n",
    "discography_df.loc[:, \"letra\"] = discography_df.apply(\n",
    "    lambda x: get_lyrics(artist = x[\"escola\"], song = \"Samba-Enredo\" + \" \" + str(x[\"ano\"])) if not isinstance(x[\"letra\"], str) else x[\"letra\"], axis = 1\n",
    ")"
   ]
  },
  {
   "cell_type": "code",
   "execution_count": 17,
   "metadata": {},
   "outputs": [
    {
     "data": {
      "text/plain": [
       "Series([], Name: letra, dtype: int64)"
      ]
     },
     "execution_count": 17,
     "metadata": {},
     "output_type": "execute_result"
    }
   ],
   "source": [
    "# repescagem 2.1: rodando pra quem caiu no ratelimit (1x resolve)\n",
    "discography_df.loc[:, \"letra\"] = discography_df.apply(\n",
    "    lambda x: get_lyrics(artist = x[\"escola\"], song = \"Samba-Enredo\" + \" \" + str(x[\"ano\"])) if x[\"letra\"] == \"API_ERROR_429\" else x[\"letra\"], axis = 1\n",
    ")\n",
    "\n",
    "discography_df[discography_df[\"letra\"] == \"API_ERROR_429\"][\"letra\"].value_counts()"
   ]
  },
  {
   "cell_type": "code",
   "execution_count": 18,
   "metadata": {},
   "outputs": [
    {
     "data": {
      "text/plain": [
       "<class 'str'>     660\n",
       "<class 'dict'>     90\n",
       "Name: letra, dtype: int64"
      ]
     },
     "execution_count": 18,
     "metadata": {},
     "output_type": "execute_result"
    }
   ],
   "source": [
    "# verificando quantos enredos estao sem letra (tipo nao eh str)\n",
    "discography_df[\"letra\"].apply(type).value_counts()"
   ]
  },
  {
   "cell_type": "code",
   "execution_count": 19,
   "metadata": {},
   "outputs": [
    {
     "name": "stderr",
     "output_type": "stream",
     "text": [
      "/tmp/ipykernel_877/354569550.py:3: SettingWithCopyWarning: \n",
      "A value is trying to be set on a copy of a slice from a DataFrame.\n",
      "Try using .loc[row_indexer,col_indexer] = value instead\n",
      "\n",
      "See the caveats in the documentation: https://pandas.pydata.org/pandas-docs/stable/user_guide/indexing.html#returning-a-view-versus-a-copy\n",
      "  falhas.loc[:, \"letra\"] = falhas.loc[:, \"letra\"].astype(str)\n"
     ]
    },
    {
     "data": {
      "text/plain": [
       "Caprichosos                  22\n",
       "Tradição                     15\n",
       "Unidos de São Carlos         11\n",
       "Estácio                       9\n",
       "Santa Cruz                    6\n",
       "Jacarezinho                   4\n",
       "Unidos do Cabuçu              3\n",
       "Tupy de Brás de Pina          2\n",
       "Rocinha                       2\n",
       "Portela                       2\n",
       "Ritmos da escolas             2\n",
       "Em Cima da Hora               1\n",
       "Ritmos das escolas            1\n",
       "Arrastão de Cascadura         1\n",
       "Unidos de Lucas               1\n",
       "Unidos de São Lucas           1\n",
       "Leão de Nova Iguaçu           1\n",
       "Independentes de Cordovil     1\n",
       "Mangueira                     1\n",
       "Renascer                      1\n",
       "São Clemente                  1\n",
       "Inocentes                     1\n",
       "Grande Rio                    1\n",
       "Name: escola, dtype: int64"
      ]
     },
     "execution_count": 19,
     "metadata": {},
     "output_type": "execute_result"
    }
   ],
   "source": [
    "# checando enredos que ainda nao foram encontrados\n",
    "falhas = discography_df[~discography_df[\"letra\"].apply(lambda x: isinstance(x, str))]\n",
    "falhas.loc[:, \"letra\"] = falhas.loc[:, \"letra\"].astype(str)\n",
    "\n",
    "# algumas falhas se dao pq nao encontra o nome das escolas: ex, Caprichosos de Pilares e Unidos de Sao Carlos (a estacio)\n",
    "falhas[\"escola\"].value_counts()"
   ]
  },
  {
   "cell_type": "code",
   "execution_count": 24,
   "metadata": {},
   "outputs": [
    {
     "data": {
      "text/plain": [
       "API_ERROR_429    85\n",
       "Name: letra, dtype: int64"
      ]
     },
     "execution_count": 24,
     "metadata": {},
     "output_type": "execute_result"
    }
   ],
   "source": [
    "# repescagem 3: Samba-enredo ao inves de Samba Enredo ou Samba-Enredo\n",
    "discography_df.loc[:, \"letra\"] = discography_df.apply(\n",
    "    lambda x: get_lyrics(artist = x[\"escola\"], song = \"Samba-enredo\" + \" \" + str(x[\"ano\"])) if not isinstance(x[\"letra\"], str) else x[\"letra\"], axis = 1\n",
    ")\n"
   ]
  },
  {
   "cell_type": "code",
   "execution_count": 26,
   "metadata": {},
   "outputs": [
    {
     "data": {
      "text/plain": [
       "Series([], Name: letra, dtype: int64)"
      ]
     },
     "execution_count": 26,
     "metadata": {},
     "output_type": "execute_result"
    }
   ],
   "source": [
    "# repescagem 3.1: erro de api\n",
    "discography_df.loc[:, \"letra\"] = discography_df.apply(\n",
    "    lambda x: get_lyrics(artist = x[\"escola\"], song = \"Samba-enredo\" + \" \" + str(x[\"ano\"])) if x[\"letra\"] == \"API_ERROR_429\" else x[\"letra\"], axis = 1\n",
    ")\n",
    "\n",
    "discography_df[discography_df[\"letra\"] == \"API_ERROR_429\"][\"letra\"].value_counts()"
   ]
  },
  {
   "cell_type": "code",
   "execution_count": 16,
   "metadata": {},
   "outputs": [
    {
     "data": {
      "text/plain": [
       "<class 'str'>    750\n",
       "Name: letra, dtype: int64"
      ]
     },
     "execution_count": 16,
     "metadata": {},
     "output_type": "execute_result"
    }
   ],
   "source": [
    "# verificando quantos enredos estao sem letra (tipo nao eh str)\n",
    "discography_df[\"letra\"].apply(type).value_counts()"
   ]
  },
  {
   "cell_type": "code",
   "execution_count": 28,
   "metadata": {},
   "outputs": [
    {
     "data": {
      "text/plain": [
       "Series([], Name: letra, dtype: int64)"
      ]
     },
     "execution_count": 28,
     "metadata": {},
     "output_type": "execute_result"
    }
   ],
   "source": [
    "# repescagem 4: caprichosos de pilares\n",
    "discography_df.loc[:, \"letra\"] = discography_df.apply(\n",
    "    lambda x: get_lyrics(artist = \"Caprichosos de pilares\", song = \"Samba Enredo\" + \" \" + str(x[\"ano\"])) if x[\"escola\"] == \"Caprichosos\" else x[\"letra\"], axis = 1\n",
    ")\n",
    "\n",
    "discography_df[discography_df[\"letra\"] == \"API_ERROR_429\"][\"letra\"].value_counts()"
   ]
  },
  {
   "cell_type": "code",
   "execution_count": 29,
   "metadata": {},
   "outputs": [
    {
     "data": {
      "text/plain": [
       "Series([], Name: letra, dtype: int64)"
      ]
     },
     "execution_count": 29,
     "metadata": {},
     "output_type": "execute_result"
    }
   ],
   "source": [
    "# respescagem 4.1: Samba-Enredo ao inves de Samba Enredo\n",
    "discography_df.loc[:, \"letra\"] = discography_df.apply(\n",
    "    lambda x: get_lyrics(artist = \"Caprichosos de pilares\", song = \"Samba-Enredo\" + \" \" + str(x[\"ano\"])) if (x[\"escola\"] == \"Caprichosos\" and not isinstance(x[\"letra\"], str)) else x[\"letra\"], axis = 1\n",
    ")\n",
    "\n",
    "discography_df[discography_df[\"letra\"] == \"API_ERROR_429\"][\"letra\"].value_counts()"
   ]
  },
  {
   "cell_type": "code",
   "execution_count": 30,
   "metadata": {},
   "outputs": [
    {
     "name": "stderr",
     "output_type": "stream",
     "text": [
      "/tmp/ipykernel_877/354569550.py:3: SettingWithCopyWarning: \n",
      "A value is trying to be set on a copy of a slice from a DataFrame.\n",
      "Try using .loc[row_indexer,col_indexer] = value instead\n",
      "\n",
      "See the caveats in the documentation: https://pandas.pydata.org/pandas-docs/stable/user_guide/indexing.html#returning-a-view-versus-a-copy\n",
      "  falhas.loc[:, \"letra\"] = falhas.loc[:, \"letra\"].astype(str)\n"
     ]
    },
    {
     "data": {
      "text/plain": [
       "Tradição                     15\n",
       "Unidos de São Carlos         11\n",
       "Estácio                       9\n",
       "Santa Cruz                    6\n",
       "Jacarezinho                   4\n",
       "Unidos do Cabuçu              3\n",
       "Tupy de Brás de Pina          2\n",
       "Rocinha                       2\n",
       "Caprichosos                   2\n",
       "Portela                       2\n",
       "Ritmos da escolas             2\n",
       "Em Cima da Hora               1\n",
       "Ritmos das escolas            1\n",
       "Arrastão de Cascadura         1\n",
       "Unidos de Lucas               1\n",
       "Unidos de São Lucas           1\n",
       "Leão de Nova Iguaçu           1\n",
       "Independentes de Cordovil     1\n",
       "Mangueira                     1\n",
       "Renascer                      1\n",
       "São Clemente                  1\n",
       "Inocentes                     1\n",
       "Grande Rio                    1\n",
       "Name: escola, dtype: int64"
      ]
     },
     "execution_count": 30,
     "metadata": {},
     "output_type": "execute_result"
    }
   ],
   "source": [
    "# checando enredos que ainda nao foram encontrados\n",
    "falhas = discography_df[~discography_df[\"letra\"].apply(lambda x: isinstance(x, str))]\n",
    "falhas.loc[:, \"letra\"] = falhas.loc[:, \"letra\"].astype(str)\n",
    "\n",
    "# algumas falhas se dao pq nao encontra o nome das escolas: ex, Caprichosos de Pilares e Unidos de Sao Carlos (a estacio)\n",
    "falhas[\"escola\"].value_counts()"
   ]
  },
  {
   "cell_type": "code",
   "execution_count": 31,
   "metadata": {},
   "outputs": [
    {
     "data": {
      "text/plain": [
       "Series([], Name: letra, dtype: int64)"
      ]
     },
     "execution_count": 31,
     "metadata": {},
     "output_type": "execute_result"
    }
   ],
   "source": [
    "# repescagem 5 - GRES tradicao\n",
    "discography_df.loc[:, \"letra\"] = discography_df.apply(\n",
    "    lambda x: get_lyrics(artist = \"GRES Tradicao\", song = \"Samba-Enredo\" + \" \" + str(x[\"ano\"])) if (x[\"escola\"] == \"Tradição\" and not isinstance(x[\"letra\"], str)) else x[\"letra\"], axis = 1\n",
    ")\n",
    "\n",
    "discography_df[discography_df[\"letra\"] == \"API_ERROR_429\"][\"letra\"].value_counts()"
   ]
  },
  {
   "cell_type": "code",
   "execution_count": 32,
   "metadata": {},
   "outputs": [
    {
     "name": "stderr",
     "output_type": "stream",
     "text": [
      "/tmp/ipykernel_877/354569550.py:3: SettingWithCopyWarning: \n",
      "A value is trying to be set on a copy of a slice from a DataFrame.\n",
      "Try using .loc[row_indexer,col_indexer] = value instead\n",
      "\n",
      "See the caveats in the documentation: https://pandas.pydata.org/pandas-docs/stable/user_guide/indexing.html#returning-a-view-versus-a-copy\n",
      "  falhas.loc[:, \"letra\"] = falhas.loc[:, \"letra\"].astype(str)\n"
     ]
    },
    {
     "data": {
      "text/plain": [
       "Unidos de São Carlos         11\n",
       "Estácio                       9\n",
       "Santa Cruz                    6\n",
       "Jacarezinho                   4\n",
       "Unidos do Cabuçu              3\n",
       "Tupy de Brás de Pina          2\n",
       "Rocinha                       2\n",
       "Caprichosos                   2\n",
       "Portela                       2\n",
       "Ritmos da escolas             2\n",
       "Unidos de São Lucas           1\n",
       "Em Cima da Hora               1\n",
       "Ritmos das escolas            1\n",
       "Arrastão de Cascadura         1\n",
       "Unidos de Lucas               1\n",
       "Leão de Nova Iguaçu           1\n",
       "Independentes de Cordovil     1\n",
       "Mangueira                     1\n",
       "Renascer                      1\n",
       "São Clemente                  1\n",
       "Inocentes                     1\n",
       "Grande Rio                    1\n",
       "Name: escola, dtype: int64"
      ]
     },
     "execution_count": 32,
     "metadata": {},
     "output_type": "execute_result"
    }
   ],
   "source": [
    "# checando enredos que ainda nao foram encontrados\n",
    "falhas = discography_df[~discography_df[\"letra\"].apply(lambda x: isinstance(x, str))]\n",
    "falhas.loc[:, \"letra\"] = falhas.loc[:, \"letra\"].astype(str)\n",
    "\n",
    "# algumas falhas se dao pq nao encontra o nome das escolas: ex, Caprichosos de Pilares e Unidos de Sao Carlos (a estacio)\n",
    "falhas[\"escola\"].value_counts()"
   ]
  },
  {
   "cell_type": "code",
   "execution_count": 33,
   "metadata": {},
   "outputs": [],
   "source": [
    "# repescagem 6: estácio de sá/unidos de são carlos\n",
    "discography_df.loc[:, \"letra\"] = discography_df.apply(\n",
    "    lambda x: get_lyrics(artist = \"Estácio de Sá\", song = \"Samba-Enredo\" + \" \" + str(x[\"ano\"])) if (x[\"escola\"] in [\"Estácio\", \"Unidos de São Carlos\"] and not isinstance(x[\"letra\"], str)) else x[\"letra\"], axis = 1\n",
    ")"
   ]
  },
  {
   "cell_type": "code",
   "execution_count": 34,
   "metadata": {},
   "outputs": [
    {
     "name": "stderr",
     "output_type": "stream",
     "text": [
      "/tmp/ipykernel_877/354569550.py:3: SettingWithCopyWarning: \n",
      "A value is trying to be set on a copy of a slice from a DataFrame.\n",
      "Try using .loc[row_indexer,col_indexer] = value instead\n",
      "\n",
      "See the caveats in the documentation: https://pandas.pydata.org/pandas-docs/stable/user_guide/indexing.html#returning-a-view-versus-a-copy\n",
      "  falhas.loc[:, \"letra\"] = falhas.loc[:, \"letra\"].astype(str)\n"
     ]
    },
    {
     "data": {
      "text/plain": [
       "Santa Cruz                   6\n",
       "Jacarezinho                  4\n",
       "Unidos do Cabuçu             3\n",
       "Rocinha                      2\n",
       "Caprichosos                  2\n",
       "Tupy de Brás de Pina         2\n",
       "Portela                      2\n",
       "Ritmos da escolas            2\n",
       "Estácio                      2\n",
       "Unidos de São Lucas          1\n",
       "Em Cima da Hora              1\n",
       "Ritmos das escolas           1\n",
       "Arrastão de Cascadura        1\n",
       "Unidos de Lucas              1\n",
       "Independentes de Cordovil    1\n",
       "Leão de Nova Iguaçu          1\n",
       "Mangueira                    1\n",
       "Renascer                     1\n",
       "São Clemente                 1\n",
       "Inocentes                    1\n",
       "Grande Rio                   1\n",
       "Name: escola, dtype: int64"
      ]
     },
     "execution_count": 34,
     "metadata": {},
     "output_type": "execute_result"
    }
   ],
   "source": [
    "# checando enredos que ainda nao foram encontrados\n",
    "falhas = discography_df[~discography_df[\"letra\"].apply(lambda x: isinstance(x, str))]\n",
    "falhas.loc[:, \"letra\"] = falhas.loc[:, \"letra\"].astype(str)\n",
    "\n",
    "# algumas falhas se dao pq nao encontra o nome das escolas: ex, Caprichosos de Pilares e Unidos de Sao Carlos (a estacio)\n",
    "falhas[\"escola\"].value_counts()"
   ]
  },
  {
   "cell_type": "code",
   "execution_count": 35,
   "metadata": {},
   "outputs": [],
   "source": [
    "# repescagem 7: academicos de santa cruz\n",
    "discography_df.loc[:, \"letra\"] = discography_df.apply(\n",
    "    lambda x: get_lyrics(artist = \"Acadêmicos de Santa Cruz\", song = x[\"enredo\"].replace(\",\", \"-\")) if (x[\"escola\"] == \"Santa Cruz\" and not isinstance(x[\"letra\"], str)) else x[\"letra\"], axis = 1\n",
    ")"
   ]
  },
  {
   "cell_type": "code",
   "execution_count": 36,
   "metadata": {},
   "outputs": [
    {
     "name": "stderr",
     "output_type": "stream",
     "text": [
      "/tmp/ipykernel_877/354569550.py:3: SettingWithCopyWarning: \n",
      "A value is trying to be set on a copy of a slice from a DataFrame.\n",
      "Try using .loc[row_indexer,col_indexer] = value instead\n",
      "\n",
      "See the caveats in the documentation: https://pandas.pydata.org/pandas-docs/stable/user_guide/indexing.html#returning-a-view-versus-a-copy\n",
      "  falhas.loc[:, \"letra\"] = falhas.loc[:, \"letra\"].astype(str)\n"
     ]
    },
    {
     "data": {
      "text/plain": [
       "Jacarezinho                  4\n",
       "Unidos do Cabuçu             3\n",
       "Santa Cruz                   2\n",
       "Rocinha                      2\n",
       "Caprichosos                  2\n",
       "Tupy de Brás de Pina         2\n",
       "Portela                      2\n",
       "Ritmos da escolas            2\n",
       "Estácio                      2\n",
       "Unidos de São Lucas          1\n",
       "Em Cima da Hora              1\n",
       "Ritmos das escolas           1\n",
       "Arrastão de Cascadura        1\n",
       "Unidos de Lucas              1\n",
       "Independentes de Cordovil    1\n",
       "Leão de Nova Iguaçu          1\n",
       "Mangueira                    1\n",
       "Renascer                     1\n",
       "São Clemente                 1\n",
       "Inocentes                    1\n",
       "Grande Rio                   1\n",
       "Name: escola, dtype: int64"
      ]
     },
     "execution_count": 36,
     "metadata": {},
     "output_type": "execute_result"
    }
   ],
   "source": [
    "# checando enredos que ainda nao foram encontrados\n",
    "falhas = discography_df[~discography_df[\"letra\"].apply(lambda x: isinstance(x, str))]\n",
    "falhas.loc[:, \"letra\"] = falhas.loc[:, \"letra\"].astype(str)\n",
    "\n",
    "# algumas falhas se dao pq nao encontra o nome das escolas: ex, Caprichosos de Pilares e Unidos de Sao Carlos (a estacio)\n",
    "falhas[\"escola\"].value_counts()"
   ]
  },
  {
   "cell_type": "code",
   "execution_count": 37,
   "metadata": {},
   "outputs": [],
   "source": [
    "# salvando progresso ate agr\n",
    "discography_df.to_csv(\"discografia_enredos.csv\")"
   ]
  },
  {
   "cell_type": "code",
   "execution_count": 26,
   "metadata": {},
   "outputs": [],
   "source": [
    "# filtrando so o que nao conseguiu a letra ate agora\n",
    "discography_df_no_lyrics = discography_df[discography_df[\"letra\"].str.contains(\"{\")]"
   ]
  },
  {
   "cell_type": "code",
   "execution_count": 27,
   "metadata": {},
   "outputs": [
    {
     "data": {
      "text/html": [
       "<div>\n",
       "<style scoped>\n",
       "    .dataframe tbody tr th:only-of-type {\n",
       "        vertical-align: middle;\n",
       "    }\n",
       "\n",
       "    .dataframe tbody tr th {\n",
       "        vertical-align: top;\n",
       "    }\n",
       "\n",
       "    .dataframe thead th {\n",
       "        text-align: right;\n",
       "    }\n",
       "</style>\n",
       "<table border=\"1\" class=\"dataframe\">\n",
       "  <thead>\n",
       "    <tr style=\"text-align: right;\">\n",
       "      <th></th>\n",
       "      <th>escola</th>\n",
       "      <th>enredo</th>\n",
       "      <th>autor</th>\n",
       "      <th>interpete</th>\n",
       "      <th>ano</th>\n",
       "      <th>letra</th>\n",
       "    </tr>\n",
       "  </thead>\n",
       "  <tbody>\n",
       "    <tr>\n",
       "      <th>4</th>\n",
       "      <td>Portela</td>\n",
       "      <td>\"Tronco do Ipê\"</td>\n",
       "      <td>Cabana</td>\n",
       "      <td>NaN</td>\n",
       "      <td>1968</td>\n",
       "      <td>{'type': 'song_notfound', 'art': {'id': '3ade6...</td>\n",
       "    </tr>\n",
       "    <tr>\n",
       "      <th>7</th>\n",
       "      <td>Ritmos das escolas</td>\n",
       "      <td>Ritmos das escolas</td>\n",
       "      <td>Ritmos das escolas</td>\n",
       "      <td>Ritmos das escolas</td>\n",
       "      <td>1968</td>\n",
       "      <td>{'type': 'notfound'}</td>\n",
       "    </tr>\n",
       "    <tr>\n",
       "      <th>9</th>\n",
       "      <td>Estácio</td>\n",
       "      <td>\"Visita ao Museu Imperial\"</td>\n",
       "      <td>Wanderlei e Jorge Canário</td>\n",
       "      <td>Jorge Cabo</td>\n",
       "      <td>1968</td>\n",
       "      <td>{'type': 'song_notfound', 'art': {'id': '3ade6...</td>\n",
       "    </tr>\n",
       "    <tr>\n",
       "      <th>11</th>\n",
       "      <td>Independentes de Cordovil</td>\n",
       "      <td>\"Aspecto da Vida Carioca no Século XVIII\"</td>\n",
       "      <td>Alexandre e Ivan</td>\n",
       "      <td>Lucio Martins</td>\n",
       "      <td>1968</td>\n",
       "      <td>{'type': 'song_notfound', 'art': {'id': '3ade6...</td>\n",
       "    </tr>\n",
       "    <tr>\n",
       "      <th>17</th>\n",
       "      <td>Portela</td>\n",
       "      <td>\"Tronco do Ipê\"</td>\n",
       "      <td>Cabana</td>\n",
       "      <td>NaN</td>\n",
       "      <td>1968</td>\n",
       "      <td>{'type': 'song_notfound', 'art': {'id': '3ade6...</td>\n",
       "    </tr>\n",
       "    <tr>\n",
       "      <th>22</th>\n",
       "      <td>Ritmos da escolas</td>\n",
       "      <td>Ritmos da escolas</td>\n",
       "      <td>Ritmos da escolas</td>\n",
       "      <td>Ritmos da escolas</td>\n",
       "      <td>1969</td>\n",
       "      <td>{'type': 'notfound'}</td>\n",
       "    </tr>\n",
       "    <tr>\n",
       "      <th>32</th>\n",
       "      <td>Jacarezinho</td>\n",
       "      <td>\"O Fabuloso Mundo do Circo\"</td>\n",
       "      <td>Marcos e Sarabanda</td>\n",
       "      <td>NaN</td>\n",
       "      <td>1970</td>\n",
       "      <td>{'type': 'notfound'}</td>\n",
       "    </tr>\n",
       "    <tr>\n",
       "      <th>36</th>\n",
       "      <td>Santa Cruz</td>\n",
       "      <td>\"Bravura, Amor e Beleza da Mulher Brasileira\"</td>\n",
       "      <td>Fausto e Paulo</td>\n",
       "      <td>NaN</td>\n",
       "      <td>1970</td>\n",
       "      <td>{'type': 'song_notfound', 'art': {'id': '3ade6...</td>\n",
       "    </tr>\n",
       "    <tr>\n",
       "      <th>40</th>\n",
       "      <td>Santa Cruz</td>\n",
       "      <td>\"Bravura, Amor e Beleza da Mulher Brasileira\"</td>\n",
       "      <td>Fausto e Paulo</td>\n",
       "      <td>NaN</td>\n",
       "      <td>1970</td>\n",
       "      <td>{'type': 'song_notfound', 'art': {'id': '3ade6...</td>\n",
       "    </tr>\n",
       "    <tr>\n",
       "      <th>41</th>\n",
       "      <td>Unidos de São Lucas</td>\n",
       "      <td>\"Terra de Caruaru\"</td>\n",
       "      <td>Corvina e Sidney da Conceição</td>\n",
       "      <td>NaN</td>\n",
       "      <td>1970</td>\n",
       "      <td>{'type': 'song_notfound', 'art': {'id': '3ade6...</td>\n",
       "    </tr>\n",
       "    <tr>\n",
       "      <th>42</th>\n",
       "      <td>Jacarezinho</td>\n",
       "      <td>\"O Fabuloso Mundo do Circo\"</td>\n",
       "      <td>Marcos e Sarabanda</td>\n",
       "      <td>NaN</td>\n",
       "      <td>1970</td>\n",
       "      <td>{'type': 'notfound'}</td>\n",
       "    </tr>\n",
       "    <tr>\n",
       "      <th>47</th>\n",
       "      <td>Ritmos da escolas</td>\n",
       "      <td>Ritmos da escolas</td>\n",
       "      <td>Ritmos da escolas</td>\n",
       "      <td>Ritmos da escolas</td>\n",
       "      <td>1970</td>\n",
       "      <td>{'type': 'notfound'}</td>\n",
       "    </tr>\n",
       "    <tr>\n",
       "      <th>82</th>\n",
       "      <td>Jacarezinho</td>\n",
       "      <td>\"Ameno Resedá\"</td>\n",
       "      <td>Nonô, Sereno, Zé Dedão e Ala dos Compositores</td>\n",
       "      <td>Ivete Garcia</td>\n",
       "      <td>1973</td>\n",
       "      <td>{'type': 'notfound'}</td>\n",
       "    </tr>\n",
       "    <tr>\n",
       "      <th>88</th>\n",
       "      <td>Tupy de Brás de Pina</td>\n",
       "      <td>\"Assim Dança o Brasil\"</td>\n",
       "      <td>Sérgio Ignácio e Ala de Compositores</td>\n",
       "      <td>Mazola</td>\n",
       "      <td>1973</td>\n",
       "      <td>{'type': 'song_notfound', 'art': {'id': '3ade6...</td>\n",
       "    </tr>\n",
       "    <tr>\n",
       "      <th>115</th>\n",
       "      <td>Tupy de Brás de Pina</td>\n",
       "      <td>\"Riquezas Áureas de Nossa Bandeira\"</td>\n",
       "      <td>Caciça</td>\n",
       "      <td>Celso Landrini</td>\n",
       "      <td>1976</td>\n",
       "      <td>{'type': 'song_notfound', 'art': {'id': '3ade6...</td>\n",
       "    </tr>\n",
       "    <tr>\n",
       "      <th>123</th>\n",
       "      <td>Em Cima da Hora</td>\n",
       "      <td>\"Os Sertões\"</td>\n",
       "      <td>Edeor de Paula</td>\n",
       "      <td>Nando</td>\n",
       "      <td>1976</td>\n",
       "      <td>{'type': 'song_notfound', 'art': {'id': '3ade6...</td>\n",
       "    </tr>\n",
       "    <tr>\n",
       "      <th>136</th>\n",
       "      <td>Unidos do Cabuçu</td>\n",
       "      <td>\"Sete Povos das Missões\"</td>\n",
       "      <td>Waldir Prateado</td>\n",
       "      <td>Beto</td>\n",
       "      <td>1977</td>\n",
       "      <td>{'type': 'song_notfound', 'art': {'id': '3ade6...</td>\n",
       "    </tr>\n",
       "    <tr>\n",
       "      <th>141</th>\n",
       "      <td>Arrastão de Cascadura</td>\n",
       "      <td>\"Talaque-Talaque, o Romance da Maria-Fumaça\"</td>\n",
       "      <td>Pestana e Jorginho do Pandeiro</td>\n",
       "      <td>Adilson Madureira</td>\n",
       "      <td>1978</td>\n",
       "      <td>{'type': 'song_notfound', 'art': {'id': '3ade6...</td>\n",
       "    </tr>\n",
       "    <tr>\n",
       "      <th>152</th>\n",
       "      <td>Unidos de Lucas</td>\n",
       "      <td>\"O Rio de Janeiro em Tempo de Debret\"</td>\n",
       "      <td>Altair, Erodilson e Joãozinho</td>\n",
       "      <td>As Gatas e Conjunto Nosso Samba</td>\n",
       "      <td>1979</td>\n",
       "      <td>{'type': 'song_notfound', 'art': {'id': '3ade6...</td>\n",
       "    </tr>\n",
       "    <tr>\n",
       "      <th>158</th>\n",
       "      <td>Unidos do Cabuçu</td>\n",
       "      <td>\"O Gigante Negro da Abolição à República\"</td>\n",
       "      <td>Izalmar, Marlon, Valmir e Amauri</td>\n",
       "      <td>Beto</td>\n",
       "      <td>1979</td>\n",
       "      <td>{'type': 'song_notfound', 'art': {'id': '3ade6...</td>\n",
       "    </tr>\n",
       "    <tr>\n",
       "      <th>243</th>\n",
       "      <td>Unidos do Cabuçu</td>\n",
       "      <td>\"Deu a Louca na História! E Agora, Stanislau, ...</td>\n",
       "      <td>Beto Pernada, Orlando, Ney, Celsinho e Fernando</td>\n",
       "      <td>Celsinho, Di Miguel e Beto do Cabuçu</td>\n",
       "      <td>1986</td>\n",
       "      <td>{'type': 'song_notfound', 'art': {'id': '3ade6...</td>\n",
       "    </tr>\n",
       "    <tr>\n",
       "      <th>280</th>\n",
       "      <td>Jacarezinho</td>\n",
       "      <td>\"Mitologia, Astrologia, Horóscopo, uma Benção\"</td>\n",
       "      <td>Barbeirinho do Jacarezinho, Jorge Pl, Serginho...</td>\n",
       "      <td>Carlinhos de Pilares</td>\n",
       "      <td>1989</td>\n",
       "      <td>{'type': 'notfound'}</td>\n",
       "    </tr>\n",
       "    <tr>\n",
       "      <th>306</th>\n",
       "      <td>Caprichosos</td>\n",
       "      <td>\"Terceiro Milênio - Em Busca do Juízo Afinal\"</td>\n",
       "      <td>João Carlos e Gabriel Moura</td>\n",
       "      <td>Carlinhos de Pilares</td>\n",
       "      <td>1991</td>\n",
       "      <td>{'type': 'song_notfound', 'art': {'id': '3ade6...</td>\n",
       "    </tr>\n",
       "    <tr>\n",
       "      <th>330</th>\n",
       "      <td>Caprichosos</td>\n",
       "      <td>\"Brasil Feito à Mão... do Barro ao Carnaval\"</td>\n",
       "      <td>Jorge Barbudo, Heloir e Zé Carlos do Saara</td>\n",
       "      <td>Carlinhos de Pilares</td>\n",
       "      <td>1992</td>\n",
       "      <td>{'type': 'song_notfound', 'art': {'id': '3ade6...</td>\n",
       "    </tr>\n",
       "    <tr>\n",
       "      <th>332</th>\n",
       "      <td>Leão de Nova Iguaçu</td>\n",
       "      <td>\"O Leão na Selva de Ilusões de Janete Clair\"</td>\n",
       "      <td>Carlinho Pretinho, Toninho Dafé e José Jorge</td>\n",
       "      <td>Jairo Bráulio</td>\n",
       "      <td>1992</td>\n",
       "      <td>{'type': 'song_notfound', 'art': {'id': '3ade6...</td>\n",
       "    </tr>\n",
       "    <tr>\n",
       "      <th>412</th>\n",
       "      <td>Rocinha</td>\n",
       "      <td>\"A Viagem Fantástica do Zé Carioca à Disney\"</td>\n",
       "      <td>Gilson da Ilha Porchat, Carlinhos Mustang, Wil...</td>\n",
       "      <td>Alexandre D'Mendes</td>\n",
       "      <td>1997</td>\n",
       "      <td>{'type': 'song_notfound', 'art': {'id': '3ade6...</td>\n",
       "    </tr>\n",
       "    <tr>\n",
       "      <th>551</th>\n",
       "      <td>Rocinha</td>\n",
       "      <td>\"Felicidade não tem Preço\"</td>\n",
       "      <td>Marquinhos, Marinho e Wander Timbalada</td>\n",
       "      <td>Anderson Paz</td>\n",
       "      <td>2006</td>\n",
       "      <td>{'type': 'song_notfound', 'art': {'id': '3ade6...</td>\n",
       "    </tr>\n",
       "    <tr>\n",
       "      <th>555</th>\n",
       "      <td>Mangueira</td>\n",
       "      <td>\"Minha Pátria é minha Língua, Mangueira meu Gr...</td>\n",
       "      <td>Lequinho, Junior Fionda, Aníbal e Amendoim do ...</td>\n",
       "      <td>Luizito</td>\n",
       "      <td>2007</td>\n",
       "      <td>{'type': 'song_notfound', 'art': {'id': '3ade6...</td>\n",
       "    </tr>\n",
       "    <tr>\n",
       "      <th>564</th>\n",
       "      <td>Estácio</td>\n",
       "      <td>\"O Tititi do Sapoti\" Reedição do carnaval de 1987</td>\n",
       "      <td>Darcy do Nascimento, Djalma Branco e Dominguin...</td>\n",
       "      <td>Anderson Paz</td>\n",
       "      <td>2007</td>\n",
       "      <td>{'type': 'song_notfound', 'art': {'id': '3ade6...</td>\n",
       "    </tr>\n",
       "    <tr>\n",
       "      <th>625</th>\n",
       "      <td>Renascer</td>\n",
       "      <td>\"O artista da alegria, dá o tom na folia\"</td>\n",
       "      <td>Adriano Cesário, Cláudio Russo, Fábio Costa e ...</td>\n",
       "      <td>Rogerinho Renascer</td>\n",
       "      <td>2012</td>\n",
       "      <td>{'type': 'song_notfound', 'art': {'id': '3ade6...</td>\n",
       "    </tr>\n",
       "    <tr>\n",
       "      <th>636</th>\n",
       "      <td>São Clemente</td>\n",
       "      <td>Horário Nobre</td>\n",
       "      <td>Nelson Amatuzzi, Victor Alves, Floriano do Car...</td>\n",
       "      <td>Igor Sorriso</td>\n",
       "      <td>2013</td>\n",
       "      <td>{'type': 'song_notfound', 'art': {'id': '3ade6...</td>\n",
       "    </tr>\n",
       "    <tr>\n",
       "      <th>637</th>\n",
       "      <td>Inocentes</td>\n",
       "      <td>As Sete Confluências do Rio Han</td>\n",
       "      <td>Billy, Dominguinhos, Ildo, J.J Santos, Juarez ...</td>\n",
       "      <td>Thiago Brito Wantuir</td>\n",
       "      <td>2013</td>\n",
       "      <td>{'type': 'song_notfound', 'art': {'id': '3ade6...</td>\n",
       "    </tr>\n",
       "    <tr>\n",
       "      <th>738</th>\n",
       "      <td>Grande Rio</td>\n",
       "      <td>Ô Zeca, o pagode onde é que é? Andei descalço,...</td>\n",
       "      <td>Igor Leal, Arlindinho, Diogo Nogueira, Myngal,...</td>\n",
       "      <td>Evandro Malandro (Zeca Pagodinho)</td>\n",
       "      <td>2023</td>\n",
       "      <td>{'type': 'song_notfound', 'art': {'id': '3ade6...</td>\n",
       "    </tr>\n",
       "  </tbody>\n",
       "</table>\n",
       "</div>"
      ],
      "text/plain": [
       "                        escola  \\\n",
       "4                      Portela   \n",
       "7           Ritmos das escolas   \n",
       "9                      Estácio   \n",
       "11   Independentes de Cordovil   \n",
       "17                     Portela   \n",
       "22           Ritmos da escolas   \n",
       "32                 Jacarezinho   \n",
       "36                  Santa Cruz   \n",
       "40                  Santa Cruz   \n",
       "41         Unidos de São Lucas   \n",
       "42                 Jacarezinho   \n",
       "47           Ritmos da escolas   \n",
       "82                 Jacarezinho   \n",
       "88        Tupy de Brás de Pina   \n",
       "115       Tupy de Brás de Pina   \n",
       "123            Em Cima da Hora   \n",
       "136           Unidos do Cabuçu   \n",
       "141      Arrastão de Cascadura   \n",
       "152            Unidos de Lucas   \n",
       "158           Unidos do Cabuçu   \n",
       "243           Unidos do Cabuçu   \n",
       "280                Jacarezinho   \n",
       "306                Caprichosos   \n",
       "330                Caprichosos   \n",
       "332        Leão de Nova Iguaçu   \n",
       "412                    Rocinha   \n",
       "551                    Rocinha   \n",
       "555                  Mangueira   \n",
       "564                    Estácio   \n",
       "625                   Renascer   \n",
       "636               São Clemente   \n",
       "637                  Inocentes   \n",
       "738                 Grande Rio   \n",
       "\n",
       "                                                enredo  \\\n",
       "4                                      \"Tronco do Ipê\"   \n",
       "7                                   Ritmos das escolas   \n",
       "9                           \"Visita ao Museu Imperial\"   \n",
       "11           \"Aspecto da Vida Carioca no Século XVIII\"   \n",
       "17                                     \"Tronco do Ipê\"   \n",
       "22                                   Ritmos da escolas   \n",
       "32                         \"O Fabuloso Mundo do Circo\"   \n",
       "36       \"Bravura, Amor e Beleza da Mulher Brasileira\"   \n",
       "40       \"Bravura, Amor e Beleza da Mulher Brasileira\"   \n",
       "41                                  \"Terra de Caruaru\"   \n",
       "42                         \"O Fabuloso Mundo do Circo\"   \n",
       "47                                   Ritmos da escolas   \n",
       "82                                      \"Ameno Resedá\"   \n",
       "88                              \"Assim Dança o Brasil\"   \n",
       "115                \"Riquezas Áureas de Nossa Bandeira\"   \n",
       "123                                       \"Os Sertões\"   \n",
       "136                           \"Sete Povos das Missões\"   \n",
       "141       \"Talaque-Talaque, o Romance da Maria-Fumaça\"   \n",
       "152              \"O Rio de Janeiro em Tempo de Debret\"   \n",
       "158          \"O Gigante Negro da Abolição à República\"   \n",
       "243  \"Deu a Louca na História! E Agora, Stanislau, ...   \n",
       "280     \"Mitologia, Astrologia, Horóscopo, uma Benção\"   \n",
       "306      \"Terceiro Milênio - Em Busca do Juízo Afinal\"   \n",
       "330       \"Brasil Feito à Mão... do Barro ao Carnaval\"   \n",
       "332       \"O Leão na Selva de Ilusões de Janete Clair\"   \n",
       "412       \"A Viagem Fantástica do Zé Carioca à Disney\"   \n",
       "551                         \"Felicidade não tem Preço\"   \n",
       "555  \"Minha Pátria é minha Língua, Mangueira meu Gr...   \n",
       "564  \"O Tititi do Sapoti\" Reedição do carnaval de 1987   \n",
       "625          \"O artista da alegria, dá o tom na folia\"   \n",
       "636                                      Horário Nobre   \n",
       "637                    As Sete Confluências do Rio Han   \n",
       "738  Ô Zeca, o pagode onde é que é? Andei descalço,...   \n",
       "\n",
       "                                                 autor  \\\n",
       "4                                               Cabana   \n",
       "7                                   Ritmos das escolas   \n",
       "9                            Wanderlei e Jorge Canário   \n",
       "11                                    Alexandre e Ivan   \n",
       "17                                              Cabana   \n",
       "22                                   Ritmos da escolas   \n",
       "32                                  Marcos e Sarabanda   \n",
       "36                                      Fausto e Paulo   \n",
       "40                                      Fausto e Paulo   \n",
       "41                       Corvina e Sidney da Conceição   \n",
       "42                                  Marcos e Sarabanda   \n",
       "47                                   Ritmos da escolas   \n",
       "82       Nonô, Sereno, Zé Dedão e Ala dos Compositores   \n",
       "88                Sérgio Ignácio e Ala de Compositores   \n",
       "115                                             Caciça   \n",
       "123                                     Edeor de Paula   \n",
       "136                                    Waldir Prateado   \n",
       "141                     Pestana e Jorginho do Pandeiro   \n",
       "152                      Altair, Erodilson e Joãozinho   \n",
       "158                   Izalmar, Marlon, Valmir e Amauri   \n",
       "243    Beto Pernada, Orlando, Ney, Celsinho e Fernando   \n",
       "280  Barbeirinho do Jacarezinho, Jorge Pl, Serginho...   \n",
       "306                        João Carlos e Gabriel Moura   \n",
       "330         Jorge Barbudo, Heloir e Zé Carlos do Saara   \n",
       "332       Carlinho Pretinho, Toninho Dafé e José Jorge   \n",
       "412  Gilson da Ilha Porchat, Carlinhos Mustang, Wil...   \n",
       "551             Marquinhos, Marinho e Wander Timbalada   \n",
       "555  Lequinho, Junior Fionda, Aníbal e Amendoim do ...   \n",
       "564  Darcy do Nascimento, Djalma Branco e Dominguin...   \n",
       "625  Adriano Cesário, Cláudio Russo, Fábio Costa e ...   \n",
       "636  Nelson Amatuzzi, Victor Alves, Floriano do Car...   \n",
       "637  Billy, Dominguinhos, Ildo, J.J Santos, Juarez ...   \n",
       "738  Igor Leal, Arlindinho, Diogo Nogueira, Myngal,...   \n",
       "\n",
       "                                interpete   ano  \\\n",
       "4                                     NaN  1968   \n",
       "7                      Ritmos das escolas  1968   \n",
       "9                              Jorge Cabo  1968   \n",
       "11                          Lucio Martins  1968   \n",
       "17                                    NaN  1968   \n",
       "22                      Ritmos da escolas  1969   \n",
       "32                                    NaN  1970   \n",
       "36                                    NaN  1970   \n",
       "40                                    NaN  1970   \n",
       "41                                    NaN  1970   \n",
       "42                                    NaN  1970   \n",
       "47                      Ritmos da escolas  1970   \n",
       "82                           Ivete Garcia  1973   \n",
       "88                                 Mazola  1973   \n",
       "115                        Celso Landrini  1976   \n",
       "123                                 Nando  1976   \n",
       "136                                  Beto  1977   \n",
       "141                     Adilson Madureira  1978   \n",
       "152       As Gatas e Conjunto Nosso Samba  1979   \n",
       "158                                  Beto  1979   \n",
       "243  Celsinho, Di Miguel e Beto do Cabuçu  1986   \n",
       "280                  Carlinhos de Pilares  1989   \n",
       "306                  Carlinhos de Pilares  1991   \n",
       "330                  Carlinhos de Pilares  1992   \n",
       "332                         Jairo Bráulio  1992   \n",
       "412                    Alexandre D'Mendes  1997   \n",
       "551                          Anderson Paz  2006   \n",
       "555                               Luizito  2007   \n",
       "564                          Anderson Paz  2007   \n",
       "625                    Rogerinho Renascer  2012   \n",
       "636                          Igor Sorriso  2013   \n",
       "637                  Thiago Brito Wantuir  2013   \n",
       "738     Evandro Malandro (Zeca Pagodinho)  2023   \n",
       "\n",
       "                                                 letra  \n",
       "4    {'type': 'song_notfound', 'art': {'id': '3ade6...  \n",
       "7                                 {'type': 'notfound'}  \n",
       "9    {'type': 'song_notfound', 'art': {'id': '3ade6...  \n",
       "11   {'type': 'song_notfound', 'art': {'id': '3ade6...  \n",
       "17   {'type': 'song_notfound', 'art': {'id': '3ade6...  \n",
       "22                                {'type': 'notfound'}  \n",
       "32                                {'type': 'notfound'}  \n",
       "36   {'type': 'song_notfound', 'art': {'id': '3ade6...  \n",
       "40   {'type': 'song_notfound', 'art': {'id': '3ade6...  \n",
       "41   {'type': 'song_notfound', 'art': {'id': '3ade6...  \n",
       "42                                {'type': 'notfound'}  \n",
       "47                                {'type': 'notfound'}  \n",
       "82                                {'type': 'notfound'}  \n",
       "88   {'type': 'song_notfound', 'art': {'id': '3ade6...  \n",
       "115  {'type': 'song_notfound', 'art': {'id': '3ade6...  \n",
       "123  {'type': 'song_notfound', 'art': {'id': '3ade6...  \n",
       "136  {'type': 'song_notfound', 'art': {'id': '3ade6...  \n",
       "141  {'type': 'song_notfound', 'art': {'id': '3ade6...  \n",
       "152  {'type': 'song_notfound', 'art': {'id': '3ade6...  \n",
       "158  {'type': 'song_notfound', 'art': {'id': '3ade6...  \n",
       "243  {'type': 'song_notfound', 'art': {'id': '3ade6...  \n",
       "280                               {'type': 'notfound'}  \n",
       "306  {'type': 'song_notfound', 'art': {'id': '3ade6...  \n",
       "330  {'type': 'song_notfound', 'art': {'id': '3ade6...  \n",
       "332  {'type': 'song_notfound', 'art': {'id': '3ade6...  \n",
       "412  {'type': 'song_notfound', 'art': {'id': '3ade6...  \n",
       "551  {'type': 'song_notfound', 'art': {'id': '3ade6...  \n",
       "555  {'type': 'song_notfound', 'art': {'id': '3ade6...  \n",
       "564  {'type': 'song_notfound', 'art': {'id': '3ade6...  \n",
       "625  {'type': 'song_notfound', 'art': {'id': '3ade6...  \n",
       "636  {'type': 'song_notfound', 'art': {'id': '3ade6...  \n",
       "637  {'type': 'song_notfound', 'art': {'id': '3ade6...  \n",
       "738  {'type': 'song_notfound', 'art': {'id': '3ade6...  "
      ]
     },
     "execution_count": 27,
     "metadata": {},
     "output_type": "execute_result"
    }
   ],
   "source": [
    "discography_df_no_lyrics"
   ]
  },
  {
   "cell_type": "code",
   "execution_count": 50,
   "metadata": {},
   "outputs": [
    {
     "name": "stderr",
     "output_type": "stream",
     "text": [
      "/tmp/ipykernel_1070/1862990558.py:2: DeprecationWarning: firefox_profile has been deprecated, please pass in an Options object\n",
      "  driver = webdriver.Firefox(GeckoDriverManager().install())\n"
     ]
    },
    {
     "ename": "NotADirectoryError",
     "evalue": "[Errno 20] Not a directory: '/home/ketzer/.wdm/drivers/geckodriver/linux64/v0.33.0/geckodriver'",
     "output_type": "error",
     "traceback": [
      "\u001b[0;31m---------------------------------------------------------------------------\u001b[0m",
      "\u001b[0;31mNotADirectoryError\u001b[0m                        Traceback (most recent call last)",
      "Cell \u001b[0;32mIn[50], line 2\u001b[0m\n\u001b[1;32m      1\u001b[0m \u001b[39m#oq sobra, apelar pra selenium\u001b[39;00m\n\u001b[0;32m----> 2\u001b[0m driver \u001b[39m=\u001b[39m webdriver\u001b[39m.\u001b[39;49mFirefox(GeckoDriverManager()\u001b[39m.\u001b[39;49minstall())\n\u001b[1;32m      5\u001b[0m \u001b[39m#for x in range(len(discography_df_no_lyrics)):\u001b[39;00m\n\u001b[1;32m      6\u001b[0m \u001b[39m#    driver.get(\"https://www.letras.mus.br/\")\u001b[39;00m\n\u001b[1;32m      7\u001b[0m \u001b[39m#\u001b[39;00m\n\u001b[1;32m      8\u001b[0m \u001b[39m#    search_bar = driver.find_element(By.ID, \"main_suggest\")\u001b[39;00m\n\u001b[1;32m      9\u001b[0m \u001b[39m#    search_bar.send_keys(str(discography_df_no_lyrics.loc[x, \"escola\"]) + discography_df_no_lyrics[x, \"enredo\"])\u001b[39;00m\n\u001b[1;32m     10\u001b[0m \u001b[39m#    break\u001b[39;00m\n",
      "File \u001b[0;32m~/enredo_dos_enredos/lib/python3.10/site-packages/selenium/webdriver/firefox/webdriver.py:182\u001b[0m, in \u001b[0;36mWebDriver.__init__\u001b[0;34m(self, firefox_profile, firefox_binary, capabilities, proxy, executable_path, options, service_log_path, service_args, service, desired_capabilities, log_path, keep_alive)\u001b[0m\n\u001b[1;32m    180\u001b[0m \u001b[39mif\u001b[39;00m firefox_profile:\n\u001b[1;32m    181\u001b[0m     \u001b[39mif\u001b[39;00m \u001b[39misinstance\u001b[39m(firefox_profile, \u001b[39mstr\u001b[39m):\n\u001b[0;32m--> 182\u001b[0m         firefox_profile \u001b[39m=\u001b[39m FirefoxProfile(firefox_profile)\n\u001b[1;32m    183\u001b[0m     \u001b[39mself\u001b[39m\u001b[39m.\u001b[39mprofile \u001b[39m=\u001b[39m firefox_profile\n\u001b[1;32m    184\u001b[0m     options\u001b[39m.\u001b[39mprofile \u001b[39m=\u001b[39m firefox_profile\n",
      "File \u001b[0;32m~/enredo_dos_enredos/lib/python3.10/site-packages/selenium/webdriver/firefox/firefox_profile.py:73\u001b[0m, in \u001b[0;36mFirefoxProfile.__init__\u001b[0;34m(self, profile_directory)\u001b[0m\n\u001b[1;32m     71\u001b[0m \u001b[39mself\u001b[39m\u001b[39m.\u001b[39mtempfolder \u001b[39m=\u001b[39m tempfile\u001b[39m.\u001b[39mmkdtemp()\n\u001b[1;32m     72\u001b[0m newprof \u001b[39m=\u001b[39m os\u001b[39m.\u001b[39mpath\u001b[39m.\u001b[39mjoin(\u001b[39mself\u001b[39m\u001b[39m.\u001b[39mtempfolder, \u001b[39m\"\u001b[39m\u001b[39mwebdriver-py-profilecopy\u001b[39m\u001b[39m\"\u001b[39m)\n\u001b[0;32m---> 73\u001b[0m shutil\u001b[39m.\u001b[39;49mcopytree(\n\u001b[1;32m     74\u001b[0m     \u001b[39mself\u001b[39;49m\u001b[39m.\u001b[39;49mprofile_dir, newprof, ignore\u001b[39m=\u001b[39;49mshutil\u001b[39m.\u001b[39;49mignore_patterns(\u001b[39m\"\u001b[39;49m\u001b[39mparent.lock\u001b[39;49m\u001b[39m\"\u001b[39;49m, \u001b[39m\"\u001b[39;49m\u001b[39mlock\u001b[39;49m\u001b[39m\"\u001b[39;49m, \u001b[39m\"\u001b[39;49m\u001b[39m.parentlock\u001b[39;49m\u001b[39m\"\u001b[39;49m)\n\u001b[1;32m     75\u001b[0m )\n\u001b[1;32m     76\u001b[0m \u001b[39mself\u001b[39m\u001b[39m.\u001b[39mprofile_dir \u001b[39m=\u001b[39m newprof\n\u001b[1;32m     77\u001b[0m os\u001b[39m.\u001b[39mchmod(\u001b[39mself\u001b[39m\u001b[39m.\u001b[39mprofile_dir, \u001b[39m0o755\u001b[39m)\n",
      "File \u001b[0;32m/usr/lib/python3.10/shutil.py:556\u001b[0m, in \u001b[0;36mcopytree\u001b[0;34m(src, dst, symlinks, ignore, copy_function, ignore_dangling_symlinks, dirs_exist_ok)\u001b[0m\n\u001b[1;32m    517\u001b[0m \u001b[39m\u001b[39m\u001b[39m\"\"\"Recursively copy a directory tree and return the destination directory.\u001b[39;00m\n\u001b[1;32m    518\u001b[0m \n\u001b[1;32m    519\u001b[0m \u001b[39mIf exception(s) occur, an Error is raised with a list of reasons.\u001b[39;00m\n\u001b[0;32m   (...)\u001b[0m\n\u001b[1;32m    553\u001b[0m \u001b[39m`src` tree.\u001b[39;00m\n\u001b[1;32m    554\u001b[0m \u001b[39m\"\"\"\u001b[39;00m\n\u001b[1;32m    555\u001b[0m sys\u001b[39m.\u001b[39maudit(\u001b[39m\"\u001b[39m\u001b[39mshutil.copytree\u001b[39m\u001b[39m\"\u001b[39m, src, dst)\n\u001b[0;32m--> 556\u001b[0m \u001b[39mwith\u001b[39;00m os\u001b[39m.\u001b[39;49mscandir(src) \u001b[39mas\u001b[39;00m itr:\n\u001b[1;32m    557\u001b[0m     entries \u001b[39m=\u001b[39m \u001b[39mlist\u001b[39m(itr)\n\u001b[1;32m    558\u001b[0m \u001b[39mreturn\u001b[39;00m _copytree(entries\u001b[39m=\u001b[39mentries, src\u001b[39m=\u001b[39msrc, dst\u001b[39m=\u001b[39mdst, symlinks\u001b[39m=\u001b[39msymlinks,\n\u001b[1;32m    559\u001b[0m                  ignore\u001b[39m=\u001b[39mignore, copy_function\u001b[39m=\u001b[39mcopy_function,\n\u001b[1;32m    560\u001b[0m                  ignore_dangling_symlinks\u001b[39m=\u001b[39mignore_dangling_symlinks,\n\u001b[1;32m    561\u001b[0m                  dirs_exist_ok\u001b[39m=\u001b[39mdirs_exist_ok)\n",
      "\u001b[0;31mNotADirectoryError\u001b[0m: [Errno 20] Not a directory: '/home/ketzer/.wdm/drivers/geckodriver/linux64/v0.33.0/geckodriver'"
     ]
    }
   ],
   "source": [
    "#oq sobra, apelar pra selenium\n",
    "driver = webdriver.Firefox(GeckoDriverManager().install())\n",
    "\n",
    "\n",
    "#for x in range(len(discography_df_no_lyrics)):\n",
    "#    driver.get(\"https://www.letras.mus.br/\")\n",
    "#\n",
    "#    search_bar = driver.find_element(By.ID, \"main_suggest\")\n",
    "#    search_bar.send_keys(str(discography_df_no_lyrics.loc[x, \"escola\"]) + discography_df_no_lyrics[x, \"enredo\"])\n",
    "#    break"
   ]
  }
 ],
 "metadata": {
  "kernelspec": {
   "display_name": "Python 3.9.4 64-bit",
   "language": "python",
   "name": "python3"
  },
  "language_info": {
   "codemirror_mode": {
    "name": "ipython",
    "version": 3
   },
   "file_extension": ".py",
   "mimetype": "text/x-python",
   "name": "python",
   "nbconvert_exporter": "python",
   "pygments_lexer": "ipython3",
   "version": "3.10.6"
  },
  "orig_nbformat": 4,
  "vscode": {
   "interpreter": {
    "hash": "aee8b7b246df8f9039afb4144a1f6fd8d2ca17a180786b69acc140d282b71a49"
   }
  }
 },
 "nbformat": 4,
 "nbformat_minor": 2
}
