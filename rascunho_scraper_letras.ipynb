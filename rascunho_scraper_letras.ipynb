{
 "cells": [
  {
   "cell_type": "code",
   "execution_count": 1,
   "metadata": {},
   "outputs": [],
   "source": [
    "# importing libraries\n",
    "import os\n",
    "import pandas as pd\n",
    "from selenium import webdriver\n",
    "from selenium.webdriver.common.keys import Keys\n",
    "from selenium.webdriver.common.by import By\n",
    "from selenium.webdriver.support.ui import WebDriverWait\n",
    "from selenium.webdriver.support import expected_conditions as EC"
   ]
  },
  {
   "cell_type": "code",
   "execution_count": 2,
   "metadata": {},
   "outputs": [],
   "source": [
    "# setting working directory and reading database\n",
    "wd = os.getcwd()\n",
    "\n",
    "discography_df = pd.read_csv(wd + \"/discografia_enredos.csv\")"
   ]
  },
  {
   "cell_type": "code",
   "execution_count": 3,
   "metadata": {},
   "outputs": [],
   "source": [
    "# creating function to analyze song suggestions and find pattern that\n",
    "# facilitates scraping\n",
    "def get_input_suggestions(driver_path: str, url: str, search_bar_id: str, \n",
    "                            song_name: str, suggestion_list_class: str, headless = False):\n",
    "    \"\"\"Given a lyrics site url, searches for the song and\n",
    "    returns the list of suggestions given by the input search bar\"\"\"\n",
    "\n",
    "    if not headless:\n",
    "        driver = webdriver.Chrome(driver_path)\n",
    "    else:\n",
    "        options = webdriver.ChromeOptions()\n",
    "        options.add_argument(\"--headless\")\n",
    "        driver = webdriver.Chrome(driver_path, chrome_options = options)\n",
    "    \n",
    "    # TODO: add handling for timeout and crashing excpections?\n",
    "    driver.get(url)\n",
    "    \n",
    "    search_bar_input = driver.find_element(By.ID, search_bar_id)\n",
    "\n",
    "    search_bar_input.send_keys(song_name)\n",
    "\n",
    "    song_suggestions = WebDriverWait(driver, 60).until(\n",
    "        EC.visibility_of_element_located((By.CLASS_NAME, suggestion_list_class))\n",
    "    ).get_attribute(\"innerHTML\")\n",
    "\n",
    "    driver.close()\n",
    "\n",
    "    return song_suggestions"
   ]
  },
  {
   "cell_type": "code",
   "execution_count": 7,
   "metadata": {},
   "outputs": [
    {
     "name": "stderr",
     "output_type": "stream",
     "text": [
      "/var/folders/3n/tvjft5y125xgcl5db_89d6sm0000gt/T/ipykernel_23447/3723222966.py:13: DeprecationWarning: executable_path has been deprecated, please pass in a Service object\n",
      "  driver = webdriver.Chrome(driver_path, chrome_options = options)\n",
      "/var/folders/3n/tvjft5y125xgcl5db_89d6sm0000gt/T/ipykernel_23447/3723222966.py:13: DeprecationWarning: use options instead of chrome_options\n",
      "  driver = webdriver.Chrome(driver_path, chrome_options = options)\n"
     ]
    }
   ],
   "source": [
    "# TODO: consider pool thread executor, which may imply altering the function and further\n",
    "# modularize it into separate components (this + headless may greatly improve execution time)\n",
    "discography_df.loc[:, \"suggestions_returned\"] = discography_df.loc[:, \"enredo\"].apply(\n",
    "    lambda x: get_input_suggestions(\n",
    "        driver_path = \"/Users/bi005521/Desktop/chromedriver\", url = \"https://www.letras.mus.br/\",\n",
    "        search_bar_id = \"main_suggest\", song_name = x.replace(\"\\\"\", \"\"), suggestion_list_class = \"suggest__list\",\n",
    "        headless = True\n",
    "    ) if isinstance(x, str) else None\n",
    ")"
   ]
  }
 ],
 "metadata": {
  "kernelspec": {
   "display_name": "Python 3.9.4 64-bit",
   "language": "python",
   "name": "python3"
  },
  "language_info": {
   "codemirror_mode": {
    "name": "ipython",
    "version": 3
   },
   "file_extension": ".py",
   "mimetype": "text/x-python",
   "name": "python",
   "nbconvert_exporter": "python",
   "pygments_lexer": "ipython3",
   "version": "3.9.4"
  },
  "orig_nbformat": 4,
  "vscode": {
   "interpreter": {
    "hash": "aee8b7b246df8f9039afb4144a1f6fd8d2ca17a180786b69acc140d282b71a49"
   }
  }
 },
 "nbformat": 4,
 "nbformat_minor": 2
}
