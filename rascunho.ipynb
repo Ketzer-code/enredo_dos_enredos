{
 "cells": [
  {
   "cell_type": "code",
   "execution_count": 1,
   "metadata": {},
   "outputs": [],
   "source": [
    "# importing libraries\n",
    "import requests\n",
    "import pandas as pd\n",
    "from bs4 import BeautifulSoup\n",
    "\n",
    "# requesting the discography page\n",
    "discography_page = \"https://pt.wikipedia.org/wiki/Discografia_do_Grupo_Especial_do_Rio_de_Janeiro\"\n",
    "page_req = requests.get(discography_page)\n",
    "\n",
    "# creating soup to associate with headers\n",
    "soup = BeautifulSoup(page_req.text, \"lxml\")"
   ]
  },
  {
   "cell_type": "code",
   "execution_count": 2,
   "metadata": {},
   "outputs": [],
   "source": [
    "# getting all the discography tables\n",
    "discography_tables = soup.find_all(\"table\", {\"class\":\"wikitable\"})\n",
    "\n",
    "# converting all tables to strings to read tables with pandas\n",
    "discography_tables = (str(table) for table in discography_tables)"
   ]
  },
  {
   "cell_type": "code",
   "execution_count": 3,
   "metadata": {},
   "outputs": [],
   "source": [
    "# reading in such a way that tables that containg multindexes are not multinidexed\n",
    "discography_tables = (\n",
    "    pd.read_html(table, header = 1) if any([\"Lado A\" in table, \"Disco 1\" in table, \"Oficial\" in table]) \n",
    "    else pd.read_html(table) for table in discography_tables\n",
    ")"
   ]
  },
  {
   "cell_type": "code",
   "execution_count": 4,
   "metadata": {},
   "outputs": [],
   "source": [
    "# some tables are returned as lists - selecting the first element of each list\n",
    "discography_tables = (\n",
    "    table[0] if isinstance(table, list) else table for table in discography_tables\n",
    ")"
   ]
  },
  {
   "cell_type": "code",
   "execution_count": 5,
   "metadata": {},
   "outputs": [],
   "source": [
    "# selecting only columns that we will use\n",
    "discography_tables = [\n",
    "    table.filter(items = [\n",
    "        \"Escola\", \"Enredo\", \"Autor\", \"Intérprete\", \"Intérprete(Participação Especial)\"\n",
    "        ]) for table in discography_tables\n",
    "]"
   ]
  },
  {
   "cell_type": "code",
   "execution_count": 6,
   "metadata": {},
   "outputs": [],
   "source": [
    "# padronizing names\n",
    "for table in discography_tables:\n",
    "    if not table.empty:\n",
    "        table.columns = [\"escola\", \"enredo\", \"autor\", \"interpete\"]\n"
   ]
  },
  {
   "cell_type": "code",
   "execution_count": 7,
   "metadata": {},
   "outputs": [],
   "source": [
    "#collecting years\n",
    "discography_years = soup.select(\"h2 span.mw-headline\")\n",
    "\n",
    "# treating list of years to contain only the year\n",
    "discography_years = (str(y) for y in discography_years)\n",
    "discography_years = (y.split(\"\\\"\")[3] for y in discography_years)\n",
    "discography_years = [y for y in discography_years if \"19\" in y or \"20\" in y]"
   ]
  },
  {
   "cell_type": "code",
   "execution_count": 8,
   "metadata": {},
   "outputs": [],
   "source": [
    "# relating years with respective discography\n",
    "# some years have more than one disk - 1968, 1970, 1971, 1985 and 1988 - multiplying\n",
    "# those to match table list len\n",
    "years_to_duplicate = [1968, 1970, 1971, 1985, 1988]\n",
    "indexes_to_duplicate = ((y - 1968) + 1 for y in years_to_duplicate)\n",
    "years_to_duplicate = (str(y) for y in years_to_duplicate)\n",
    "\n",
    "index_year = dict(zip(indexes_to_duplicate, years_to_duplicate))\n",
    "# creating counter to account for added indexes\n",
    "aux = 0\n",
    "for k, v in index_year.items():\n",
    "    discography_years.insert(k + aux, v + \"_b\")\n",
    "    aux = aux + 1"
   ]
  },
  {
   "cell_type": "code",
   "execution_count": 9,
   "metadata": {},
   "outputs": [],
   "source": [
    "# to add each year as a column for each dataframe, we need to transform\n",
    "# the list in a list of lists and multiply them for the lenght of the corresponding dataframe\n",
    "year_table = dict(zip(discography_years, discography_tables))\n",
    "discography_years = ([y.replace(\"_b\", \"\")] * len(year_table.get(y)) for y in year_table)"
   ]
  },
  {
   "cell_type": "code",
   "execution_count": 10,
   "metadata": {},
   "outputs": [],
   "source": [
    "# picking each list and inserting into each dataframe as a new column\n",
    "for table, year in zip(discography_tables, discography_years):\n",
    "    table.loc[:, \"ano\"] = year\n"
   ]
  },
  {
   "cell_type": "code",
   "execution_count": 32,
   "metadata": {},
   "outputs": [],
   "source": [
    "# joining dataframe list into a single dataframe\n",
    "discography_df = pd.concat(discography_tables)"
   ]
  },
  {
   "cell_type": "code",
   "execution_count": 33,
   "metadata": {},
   "outputs": [],
   "source": [
    "# dropping rows that are actually columns from multindex tables\n",
    "rows_disk_side = discography_df.apply(\n",
    "    lambda row: any([\"Lado B\" in string for string in row if isinstance(string, str)]),  axis = 1\n",
    ")\n",
    "\n",
    "rows_headers = discography_df.apply(\n",
    "    lambda row: any([\"Intérprete\" in string for string in row if isinstance(string, str)]), axis = 1\n",
    ")\n",
    "\n",
    "discography_df = discography_df[~((rows_headers) | (rows_disk_side))]"
   ]
  },
  {
   "cell_type": "code",
   "execution_count": 31,
   "metadata": {},
   "outputs": [
    {
     "data": {
      "text/html": [
       "<div>\n",
       "<style scoped>\n",
       "    .dataframe tbody tr th:only-of-type {\n",
       "        vertical-align: middle;\n",
       "    }\n",
       "\n",
       "    .dataframe tbody tr th {\n",
       "        vertical-align: top;\n",
       "    }\n",
       "\n",
       "    .dataframe thead th {\n",
       "        text-align: right;\n",
       "    }\n",
       "</style>\n",
       "<table border=\"1\" class=\"dataframe\">\n",
       "  <thead>\n",
       "    <tr style=\"text-align: right;\">\n",
       "      <th></th>\n",
       "      <th>escola</th>\n",
       "      <th>enredo</th>\n",
       "      <th>autor</th>\n",
       "      <th>interpete</th>\n",
       "      <th>ano</th>\n",
       "    </tr>\n",
       "  </thead>\n",
       "  <tbody>\n",
       "    <tr>\n",
       "      <th>0</th>\n",
       "      <td>Salgueiro</td>\n",
       "      <td>\"Dona Beija, Feiticeira do Araxá\"</td>\n",
       "      <td>Aurinho da Ilha</td>\n",
       "      <td>NaN</td>\n",
       "      <td>1968</td>\n",
       "    </tr>\n",
       "    <tr>\n",
       "      <th>1</th>\n",
       "      <td>Unidos de Lucas</td>\n",
       "      <td>\"Sublime Pergaminho\"</td>\n",
       "      <td>Carlinhos Madrugada, Zeca Melodia e Nílton Russo</td>\n",
       "      <td>Abílio Martins</td>\n",
       "      <td>1968</td>\n",
       "    </tr>\n",
       "    <tr>\n",
       "      <th>2</th>\n",
       "      <td>Mocidade</td>\n",
       "      <td>\"Viagem Pitoresca Através do Brasil\"</td>\n",
       "      <td>Da Roça e Djalma</td>\n",
       "      <td>NaN</td>\n",
       "      <td>1968</td>\n",
       "    </tr>\n",
       "    <tr>\n",
       "      <th>3</th>\n",
       "      <td>Império Serrano</td>\n",
       "      <td>\"Pernambuco, o Leão do Norte\"</td>\n",
       "      <td>Silas de Oliveira</td>\n",
       "      <td>Damasceno</td>\n",
       "      <td>1968</td>\n",
       "    </tr>\n",
       "    <tr>\n",
       "      <th>6</th>\n",
       "      <td>Portela</td>\n",
       "      <td>\"Tronco do Ipê\"</td>\n",
       "      <td>Cabana</td>\n",
       "      <td>NaN</td>\n",
       "      <td>1968</td>\n",
       "    </tr>\n",
       "    <tr>\n",
       "      <th>...</th>\n",
       "      <td>...</td>\n",
       "      <td>...</td>\n",
       "      <td>...</td>\n",
       "      <td>...</td>\n",
       "      <td>...</td>\n",
       "    </tr>\n",
       "    <tr>\n",
       "      <th>7</th>\n",
       "      <td>Mocidade</td>\n",
       "      <td>NaN</td>\n",
       "      <td>NaN</td>\n",
       "      <td>Nino do Milênio</td>\n",
       "      <td>2023</td>\n",
       "    </tr>\n",
       "    <tr>\n",
       "      <th>8</th>\n",
       "      <td>Unidos da Tijuca</td>\n",
       "      <td>NaN</td>\n",
       "      <td>NaN</td>\n",
       "      <td>WantuirWic Tavares</td>\n",
       "      <td>2023</td>\n",
       "    </tr>\n",
       "    <tr>\n",
       "      <th>9</th>\n",
       "      <td>Imperatriz</td>\n",
       "      <td>O aperreio do cabra que o excomungado tratou c...</td>\n",
       "      <td>NaN</td>\n",
       "      <td>Pitty de Menezes</td>\n",
       "      <td>2023</td>\n",
       "    </tr>\n",
       "    <tr>\n",
       "      <th>10</th>\n",
       "      <td>Paraíso do Tuiuti</td>\n",
       "      <td>Mogangueiro da Cara Preta</td>\n",
       "      <td>NaN</td>\n",
       "      <td>Wander Pires</td>\n",
       "      <td>2023</td>\n",
       "    </tr>\n",
       "    <tr>\n",
       "      <th>11</th>\n",
       "      <td>Império Serrano</td>\n",
       "      <td>Lugares de Arlindo</td>\n",
       "      <td>NaN</td>\n",
       "      <td>Ito Melodia</td>\n",
       "      <td>2023</td>\n",
       "    </tr>\n",
       "  </tbody>\n",
       "</table>\n",
       "<p>756 rows × 5 columns</p>\n",
       "</div>"
      ],
      "text/plain": [
       "               escola                                             enredo  \\\n",
       "0           Salgueiro                  \"Dona Beija, Feiticeira do Araxá\"   \n",
       "1     Unidos de Lucas                               \"Sublime Pergaminho\"   \n",
       "2            Mocidade               \"Viagem Pitoresca Através do Brasil\"   \n",
       "3     Império Serrano                      \"Pernambuco, o Leão do Norte\"   \n",
       "6             Portela                                    \"Tronco do Ipê\"   \n",
       "..                ...                                                ...   \n",
       "7            Mocidade                                                NaN   \n",
       "8    Unidos da Tijuca                                                NaN   \n",
       "9          Imperatriz  O aperreio do cabra que o excomungado tratou c...   \n",
       "10  Paraíso do Tuiuti                          Mogangueiro da Cara Preta   \n",
       "11    Império Serrano                                 Lugares de Arlindo   \n",
       "\n",
       "                                               autor           interpete   ano  \n",
       "0                                    Aurinho da Ilha                 NaN  1968  \n",
       "1   Carlinhos Madrugada, Zeca Melodia e Nílton Russo      Abílio Martins  1968  \n",
       "2                                   Da Roça e Djalma                 NaN  1968  \n",
       "3                                  Silas de Oliveira           Damasceno  1968  \n",
       "6                                             Cabana                 NaN  1968  \n",
       "..                                               ...                 ...   ...  \n",
       "7                                                NaN     Nino do Milênio  2023  \n",
       "8                                                NaN  WantuirWic Tavares  2023  \n",
       "9                                                NaN    Pitty de Menezes  2023  \n",
       "10                                               NaN        Wander Pires  2023  \n",
       "11                                               NaN         Ito Melodia  2023  \n",
       "\n",
       "[756 rows x 5 columns]"
      ]
     },
     "execution_count": 31,
     "metadata": {},
     "output_type": "execute_result"
    }
   ],
   "source": [
    "discography_df"
   ]
  }
 ],
 "metadata": {
  "interpreter": {
   "hash": "aee8b7b246df8f9039afb4144a1f6fd8d2ca17a180786b69acc140d282b71a49"
  },
  "kernelspec": {
   "display_name": "Python 3.9.4 64-bit",
   "name": "python3"
  },
  "language_info": {
   "codemirror_mode": {
    "name": "ipython",
    "version": 3
   },
   "file_extension": ".py",
   "mimetype": "text/x-python",
   "name": "python",
   "nbconvert_exporter": "python",
   "pygments_lexer": "ipython3",
   "version": "3.9.4"
  },
  "orig_nbformat": 4
 },
 "nbformat": 4,
 "nbformat_minor": 2
}
